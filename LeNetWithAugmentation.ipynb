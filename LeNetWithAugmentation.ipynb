{
  "nbformat": 4,
  "nbformat_minor": 0,
  "metadata": {
    "colab": {
      "name": "Untitled.ipynb",
      "version": "0.3.2",
      "provenance": [],
      "collapsed_sections": [],
      "include_colab_link": true
    },
    "kernelspec": {
      "name": "python3",
      "display_name": "Python 3"
    },
    "accelerator": "GPU"
  },
  "cells": [
    {
      "cell_type": "markdown",
      "metadata": {
        "id": "view-in-github",
        "colab_type": "text"
      },
      "source": [
        "<a href=\"https://colab.research.google.com/github/IamShivamJaiswal/TrafficSignClassifer/blob/master/LeNetWithAugmentation.ipynb\" target=\"_parent\"><img src=\"https://colab.research.google.com/assets/colab-badge.svg\" alt=\"Open In Colab\"/></a>"
      ]
    },
    {
      "metadata": {
        "id": "hygF9UTRMTpt",
        "colab_type": "code",
        "colab": {}
      },
      "cell_type": "code",
      "source": [
        "f = open(\"cookie.txt\",'w')\n",
        "f.write(\"\"\"\n",
        "Paste your cookie here\n",
        "\"\"\")\n",
        "f.close()"
      ],
      "execution_count": 0,
      "outputs": []
    },
    {
      "metadata": {
        "id": "R3zy4mzUbv7M",
        "colab_type": "text"
      },
      "cell_type": "markdown",
      "source": [
        "How to download Kaggle dataset from command line?[Use this link](https://wdeback.gitlab.io/post/2018-03-08-how-to-download-kaggle-dataset-from-command-line/)"
      ]
    },
    {
      "metadata": {
        "id": "dP6Xm-jvOops",
        "colab_type": "code",
        "outputId": "f692514a-e79f-4ed9-9833-4d2aecdf6e89",
        "colab": {
          "base_uri": "https://localhost:8080/",
          "height": 241
        }
      },
      "cell_type": "code",
      "source": [
        "!wget -x -c --load-cookies cookie.txt https://www.kaggle.com/mahadevkonar/belgiumts-dataset/downloads/belgiumts-dataset.zip/1   -O belgiumts-dataset.zip"
      ],
      "execution_count": 2,
      "outputs": [
        {
          "output_type": "stream",
          "text": [
            "--2019-01-14 14:27:09--  https://www.kaggle.com/mahadevkonar/belgiumts-dataset/downloads/belgiumts-dataset.zip/1\n",
            "Resolving www.kaggle.com (www.kaggle.com)... 23.96.207.25\n",
            "Connecting to www.kaggle.com (www.kaggle.com)|23.96.207.25|:443... connected.\n",
            "HTTP request sent, awaiting response... 302 Found\n",
            "Location: https://storage.googleapis.com/kaggle-datasets/10902/15203/belgiumts-dataset.zip?GoogleAccessId=web-data@kaggle-161607.iam.gserviceaccount.com&Expires=1547735229&Signature=SyVoVWDyryLp8r3veKoOr%2FSm0FOadm6okBG5wYUQHl9TaNlVbzU3%2FTsRwvS%2B8ttsBQR6nms36vm6q1YADELFFnB8f%2Fg5uEyWC3939bJX%2Bfs9mEYQf%2B%2Bz60fq4fKmxbv%2BgLgupNGzuAW%2B48YmWzvVIVnIjPHjL5zqZIEoVkRvUBtoJK%2B5sZj3b085YuPENgBfeRTXd5rCth1tQu8IhydVID70UQF8wzllCUp7AUWeTKE6GGJ7R7UUNnaEimyWWKUUVmeKnv8KkWtofjtZN4svao%2FuAO0XcoCmZp0vrV2D3%2Fi9KuiTMkKWJJmHy8%2BB87E45LSaIK%2B7Bf5Rd2yCYrt2yg%3D%3D [following]\n",
            "--2019-01-14 14:27:09--  https://storage.googleapis.com/kaggle-datasets/10902/15203/belgiumts-dataset.zip?GoogleAccessId=web-data@kaggle-161607.iam.gserviceaccount.com&Expires=1547735229&Signature=SyVoVWDyryLp8r3veKoOr%2FSm0FOadm6okBG5wYUQHl9TaNlVbzU3%2FTsRwvS%2B8ttsBQR6nms36vm6q1YADELFFnB8f%2Fg5uEyWC3939bJX%2Bfs9mEYQf%2B%2Bz60fq4fKmxbv%2BgLgupNGzuAW%2B48YmWzvVIVnIjPHjL5zqZIEoVkRvUBtoJK%2B5sZj3b085YuPENgBfeRTXd5rCth1tQu8IhydVID70UQF8wzllCUp7AUWeTKE6GGJ7R7UUNnaEimyWWKUUVmeKnv8KkWtofjtZN4svao%2FuAO0XcoCmZp0vrV2D3%2Fi9KuiTMkKWJJmHy8%2BB87E45LSaIK%2B7Bf5Rd2yCYrt2yg%3D%3D\n",
            "Resolving storage.googleapis.com (storage.googleapis.com)... 74.125.203.128, 2404:6800:4008:c00::80\n",
            "Connecting to storage.googleapis.com (storage.googleapis.com)|74.125.203.128|:443... connected.\n",
            "HTTP request sent, awaiting response... 416 Requested range not satisfiable\n",
            "\n",
            "    The file is already fully retrieved; nothing to do.\n",
            "\n"
          ],
          "name": "stdout"
        }
      ]
    },
    {
      "metadata": {
        "id": "oFdECjBLPNOK",
        "colab_type": "code",
        "colab": {}
      },
      "cell_type": "code",
      "source": [
        "!unzip belgiumts-dataset.zip >> output.txt\n",
        "!unzip BelgiumTSC_Testing.zip  -d data >> output.txt\n",
        "!unzip BelgiumTSC_Training.zip  -d data >> output.txt"
      ],
      "execution_count": 0,
      "outputs": []
    },
    {
      "metadata": {
        "id": "AUiKUYIdPUye",
        "colab_type": "code",
        "outputId": "eb479227-c1a2-45b7-df7f-96f18e0a9635",
        "colab": {
          "base_uri": "https://localhost:8080/",
          "height": 34
        }
      },
      "cell_type": "code",
      "source": [
        "!cd data && ls"
      ],
      "execution_count": 4,
      "outputs": [
        {
          "output_type": "stream",
          "text": [
            "Testing  Training\n"
          ],
          "name": "stdout"
        }
      ]
    },
    {
      "metadata": {
        "id": "RxjvZX95QRkM",
        "colab_type": "code",
        "outputId": "cb0a2702-8b7a-4436-8994-7cb7939ebaaf",
        "colab": {
          "base_uri": "https://localhost:8080/",
          "height": 34
        }
      },
      "cell_type": "code",
      "source": [
        "import numpy as np\n",
        "import pandas as pd\n",
        "\n",
        "# imports needed for CNN\n",
        "import csv\n",
        "import cv2\n",
        "import os, glob\n",
        "import pandas as pd\n",
        "import numpy as np\n",
        "import sklearn\n",
        "from sklearn.model_selection import train_test_split\n",
        "from keras.utils import to_categorical\n",
        "import time\n",
        "from keras.datasets import cifar10\n",
        "from keras.models import Sequential\n",
        "from keras.layers import Activation\n",
        "from keras.layers import Dense\n",
        "from keras.layers import Dropout\n",
        "from keras.layers import Flatten\n",
        "from keras.constraints import maxnorm\n",
        "from keras.optimizers import SGD\n",
        "from keras.layers.convolutional import Convolution2D\n",
        "from keras.layers.convolutional import MaxPooling2D\n",
        "from keras.utils import np_utils\n",
        "from matplotlib import pyplot as plt\n",
        "\n",
        "from subprocess import check_output"
      ],
      "execution_count": 5,
      "outputs": [
        {
          "output_type": "stream",
          "text": [
            "Using TensorFlow backend.\n"
          ],
          "name": "stderr"
        }
      ]
    },
    {
      "metadata": {
        "id": "JwMArrjyQSyv",
        "colab_type": "code",
        "colab": {}
      },
      "cell_type": "code",
      "source": [
        "def load_data(data_dir):\n",
        "    # Get all subdirectories of data_dir. Each represents a label.\n",
        "    directories = os.listdir(data_dir)\n",
        "    # Loop through the label directories and collect the data in\n",
        "    # two lists, labels and images.\n",
        "    labels = []\n",
        "    images = []\n",
        "    category = 0\n",
        "    for d in directories:\n",
        "        if (d != 'Readme.txt'):\n",
        "            file_names = [os.path.join(data_dir + d, f) for f in os.listdir(data_dir + d) if f.endswith(\".ppm\")]\n",
        "        else:\n",
        "            continue\n",
        "        for f in file_names:\n",
        "            img = cv2.imread(f)\n",
        "            imresize = cv2.resize(img, (32, 32))\n",
        "            #grayimg = cv2.cvtColor(imresize,cv2.COLOR_RGB2GRAY)\n",
        "            #grayimg=np.reshape(grayimg,(32,32,1))\n",
        "            #plt.imshow(imresize)\n",
        "            images.append(imresize)\n",
        "            labels.append(category) \n",
        "        category += 1\n",
        "    #Normalization\n",
        "    images = np.array(images).astype('float32')\n",
        "    images = images / 255.0\n",
        "    #hot encoding\n",
        "    labels = np.array(labels)\n",
        "    #labels = to_categorical(labels,category)\n",
        "    return images, labels"
      ],
      "execution_count": 0,
      "outputs": []
    },
    {
      "metadata": {
        "id": "63IvpTfYQknf",
        "colab_type": "code",
        "outputId": "c2eb0087-0b06-4f6f-df41-789a768929b0",
        "colab": {
          "base_uri": "https://localhost:8080/",
          "height": 51
        }
      },
      "cell_type": "code",
      "source": [
        "X_train, y_train = [],[]\n",
        "X_train, y_train = load_data('data/Training/')\n",
        "print (len(X_train))\n",
        "print (len(y_train))"
      ],
      "execution_count": 10,
      "outputs": [
        {
          "output_type": "stream",
          "text": [
            "4575\n",
            "4575\n"
          ],
          "name": "stdout"
        }
      ]
    },
    {
      "metadata": {
        "id": "7w2S1WFPRJ6W",
        "colab_type": "code",
        "outputId": "d70ec860-cc21-4cf0-fe1b-538cf74d237e",
        "colab": {
          "base_uri": "https://localhost:8080/",
          "height": 143
        }
      },
      "cell_type": "code",
      "source": [
        "temp = -1\n",
        "fig=plt.figure(figsize=(20, 20))\n",
        "for i in range(0,y_train.shape[0]):\n",
        "    if (np.argmax(y_train[i]) != temp):\n",
        "        fig.add_subplot(10, 2, np.argmax(y_train[i]) + 1)\n",
        "        plt.imshow(X_train[i])\n",
        "        if (np.argmax(y_train[i]) >= 19):\n",
        "            break\n",
        "        temp = np.argmax(y_train[i])"
      ],
      "execution_count": 12,
      "outputs": [
        {
          "output_type": "display_data",
          "data": {
            "image/png": "[encoded data removed]",
            "text/plain": [
              "<matplotlib.figure.Figure at 0x7f4429fa8cf8>"
            ]
          },
          "metadata": {
            "tags": []
          }
        }
      ]
    },
    {
      "metadata": {
        "id": "fw3MFIAcRMVi",
        "colab_type": "code",
        "outputId": "7d7c4c59-7902-4222-b517-fffeeb298516",
        "colab": {
          "base_uri": "https://localhost:8080/",
          "height": 34
        }
      },
      "cell_type": "code",
      "source": [
        "X_test, y_test = [],[]\n",
        "X_test, y_test = load_data('data/Testing/')\n",
        "print (len(X_test),len(y_test))"
      ],
      "execution_count": 13,
      "outputs": [
        {
          "output_type": "stream",
          "text": [
            "2520 2520\n"
          ],
          "name": "stdout"
        }
      ]
    },
    {
      "metadata": {
        "id": "K7e5E30SiqI1",
        "colab_type": "code",
        "colab": {
          "base_uri": "https://localhost:8080/",
          "height": 243
        },
        "outputId": "7aa9cb96-d902-434c-a85f-31a7350930f8"
      },
      "cell_type": "code",
      "source": [
        "import cv2\n",
        "\n",
        "def random_translate(img):\n",
        "    rows,cols,_ = img.shape\n",
        "    \n",
        "    # allow translation up to px pixels in x and y directions\n",
        "    px = 5\n",
        "    dx,dy = np.random.randint(-px,px,2)\n",
        "\n",
        "    M = np.float32([[1,0,dx],[0,1,dy]])\n",
        "    dst = cv2.warpAffine(img,M,(cols,rows))\n",
        "    \n",
        "    dst = dst[:,:,np.newaxis]\n",
        "    \n",
        "    return np.reshape(dst,(32,32,3))\n",
        "\n",
        "test_img = X_train[22]\n",
        "\n",
        "test_dst = random_translate(test_img)\n",
        "\n",
        "fig, axs = plt.subplots(1,2, figsize=(10, 3))\n",
        "\n",
        "axs[0].axis('off')\n",
        "axs[0].imshow(test_img.squeeze(), cmap='gray')\n",
        "axs[0].set_title('original')\n",
        "\n",
        "axs[1].axis('off')\n",
        "axs[1].imshow(test_dst.squeeze(), cmap='gray')\n",
        "axs[1].set_title('translated')\n",
        "\n",
        "print('shape in/out:', test_img.shape, test_dst.shape)"
      ],
      "execution_count": 14,
      "outputs": [
        {
          "output_type": "stream",
          "text": [
            "shape in/out: (32, 32, 3) (32, 32, 3)\n"
          ],
          "name": "stdout"
        },
        {
          "output_type": "display_data",
          "data": {
            "image/png": "[encoded data removed]",
            "text/plain": [
              "<matplotlib.figure.Figure at 0x7f4427747ac8>"
            ]
          },
          "metadata": {
            "tags": []
          }
        }
      ]
    },
    {
      "metadata": {
        "id": "gfiPuMl7i9YV",
        "colab_type": "code",
        "colab": {
          "base_uri": "https://localhost:8080/",
          "height": 243
        },
        "outputId": "7c89c0f5-b7a1-405e-c282-f8bbac1319de"
      },
      "cell_type": "code",
      "source": [
        "def random_scaling(img):   \n",
        "    rows,cols,_ = img.shape\n",
        "\n",
        "    # transform limits\n",
        "    px = np.random.randint(-5,5)\n",
        "\n",
        "    # ending locations\n",
        "    pts1 = np.float32([[px,px],[rows-px,px],[px,cols-px],[rows-px,cols-px]])\n",
        "\n",
        "    # starting locations (4 corners)\n",
        "    pts2 = np.float32([[0,0],[rows,0],[0,cols],[rows,cols]])\n",
        "\n",
        "    M = cv2.getPerspectiveTransform(pts1,pts2)\n",
        "\n",
        "    dst = cv2.warpPerspective(img,M,(rows,cols))\n",
        "    \n",
        "    dst = dst[:,:,np.newaxis]\n",
        "    \n",
        "    return np.reshape(dst,(32,32,3))\n",
        "\n",
        "test_dst = random_scaling(test_img)\n",
        "    \n",
        "fig, axs = plt.subplots(1,2, figsize=(10, 3))\n",
        "\n",
        "axs[0].axis('off')\n",
        "axs[0].imshow(test_img.squeeze(), cmap='gray')\n",
        "axs[0].set_title('original')\n",
        "\n",
        "axs[1].axis('off')\n",
        "axs[1].imshow(test_dst.squeeze(), cmap='gray')\n",
        "axs[1].set_title('scaled')\n",
        "\n",
        "print('shape in/out:', test_img.shape, test_dst.shape)"
      ],
      "execution_count": 15,
      "outputs": [
        {
          "output_type": "stream",
          "text": [
            "shape in/out: (32, 32, 3) (32, 32, 3)\n"
          ],
          "name": "stdout"
        },
        {
          "output_type": "display_data",
          "data": {
            "image/png": "[encoded data removed]",
            "text/plain": [
              "<matplotlib.figure.Figure at 0x7f44276cc198>"
            ]
          },
          "metadata": {
            "tags": []
          }
        }
      ]
    },
    {
      "metadata": {
        "id": "pSQllHgdjMFe",
        "colab_type": "code",
        "colab": {
          "base_uri": "https://localhost:8080/",
          "height": 243
        },
        "outputId": "dcef39c0-4533-4212-9667-837f77c5afc3"
      },
      "cell_type": "code",
      "source": [
        "def random_warp(img):\n",
        "    \n",
        "    rows,cols,_ = img.shape\n",
        "\n",
        "    # random scaling coefficients\n",
        "    rndx = np.random.rand(5) - 0.5\n",
        "    rndx *= cols * 0.07   # this coefficient determines the degree of warping\n",
        "    rndy = np.random.rand(5) - 0.5\n",
        "    rndy *= rows * 0.07\n",
        "\n",
        "    # 3 starting points for transform, 1/4 way from edges\n",
        "    x1 = cols/4\n",
        "    x2 = 3*cols/4\n",
        "    y1 = rows/4\n",
        "    y2 = 3*rows/4\n",
        "\n",
        "    pts1 = np.float32([[y1,x1],\n",
        "                       [y2,x1],\n",
        "                       [y1,x2]])\n",
        "    pts2 = np.float32([[y1+rndy[0],x1+rndx[0]],\n",
        "                       [y2+rndy[1],x1+rndx[1]],\n",
        "                       [y1+rndy[2],x2+rndx[2]]])\n",
        "\n",
        "    M = cv2.getAffineTransform(pts1,pts2)\n",
        "\n",
        "    dst = cv2.warpAffine(img,M,(cols,rows))\n",
        "    \n",
        "    dst = dst[:,:,np.newaxis]\n",
        "    return np.reshape(dst,(32,32,3))\n",
        "\n",
        "test_dst = random_warp(test_img)\n",
        "\n",
        "fig, axs = plt.subplots(1,2, figsize=(10, 3))\n",
        "\n",
        "axs[0].axis('off')\n",
        "axs[0].imshow(test_img.squeeze(), cmap='gray')\n",
        "axs[0].set_title('original')\n",
        "\n",
        "axs[1].axis('off')\n",
        "axs[1].imshow(test_dst.squeeze(), cmap='gray')\n",
        "axs[1].set_title('warped')\n",
        "\n",
        "print('shape in/out:', test_img.shape, test_dst.shape)"
      ],
      "execution_count": 16,
      "outputs": [
        {
          "output_type": "stream",
          "text": [
            "shape in/out: (32, 32, 3) (32, 32, 3)\n"
          ],
          "name": "stdout"
        },
        {
          "output_type": "display_data",
          "data": {
            "image/png": "[encoded data removed]",
            "text/plain": [
              "<matplotlib.figure.Figure at 0x7f442764b3c8>"
            ]
          },
          "metadata": {
            "tags": []
          }
        }
      ]
    },
    {
      "metadata": {
        "id": "5SWaIT4cjt7l",
        "colab_type": "code",
        "colab": {
          "base_uri": "https://localhost:8080/",
          "height": 347
        },
        "outputId": "ea75baf4-091c-4d3a-ea9a-5a45367cb0a8"
      },
      "cell_type": "code",
      "source": [
        "n_classes = 62\n",
        "# histogram of label frequency (once again, before data augmentation)\n",
        "hist, bins = np.histogram(y_train, bins=n_classes)\n",
        "width = 0.7 * (bins[1] - bins[0])\n",
        "center = (bins[:-1] + bins[1:]) / 2\n",
        "plt.bar(center, hist, align='center', width=width)\n",
        "plt.show()"
      ],
      "execution_count": 17,
      "outputs": [
        {
          "output_type": "display_data",
          "data": {
            "image/png": "[encoded data removed]",
            "text/plain": [
              "<matplotlib.figure.Figure at 0x7f4429f96198>"
            ]
          },
          "metadata": {
            "tags": []
          }
        }
      ]
    },
    {
      "metadata": {
        "id": "4P6ARx-ekZb4",
        "colab_type": "code",
        "colab": {
          "base_uri": "https://localhost:8080/",
          "height": 1105
        },
        "outputId": "14e2ebaf-364b-4ff2-e50d-767ff0b58b29"
      },
      "cell_type": "code",
      "source": [
        "X_train_normalized = np.copy(X_train)\n",
        "y_train_normalized = np.copy(y_train)\n",
        "print('X, y shapes:', X_train_normalized.shape, y_train_normalized.shape)\n",
        "\n",
        "input_indices = []\n",
        "output_indices = []\n",
        "\n",
        "for class_n in range(n_classes):\n",
        "    print(class_n, ': ', end='')\n",
        "    class_indices = np.where(y_train_normalized == class_n)\n",
        "    n_samples = len(class_indices[0])\n",
        "    if n_samples < 150:\n",
        "        for i in range(150 - n_samples):\n",
        "            input_indices.append(class_indices[0][i%n_samples])\n",
        "            output_indices.append(X_train_normalized.shape[0])\n",
        "            new_img = X_train_normalized[class_indices[0][i % n_samples]]\n",
        "            new_img = random_translate(random_scaling(random_warp(new_img)))\n",
        "            X_train_normalized = np.concatenate((X_train_normalized, [new_img]), axis=0)\n",
        "            y_train_normalized = np.concatenate((y_train_normalized, [class_n]), axis=0)\n",
        "            if i % 50 == 0:\n",
        "                print('|', end='')\n",
        "            elif i % 10 == 0:\n",
        "                print('-',end='')\n",
        "    print('')\n",
        "            \n",
        "print('X, y shapes:', X_train_normalized.shape, y_train_normalized.shape)"
      ],
      "execution_count": 18,
      "outputs": [
        {
          "output_type": "stream",
          "text": [
            "X, y shapes: (4575, 32, 32, 3) (4575,)\n",
            "0 : |----|----|----\n",
            "1 : |----|----|---\n",
            "2 : |----|----|\n",
            "3 : |----|--\n",
            "4 : |----|\n",
            "5 : \n",
            "6 : |----|----|-\n",
            "7 : |----|----|\n",
            "8 : |----|----|----\n",
            "9 : |----|----|\n",
            "10 : |----|----|---\n",
            "11 : |----|\n",
            "12 : |----|---\n",
            "13 : |----|----|\n",
            "14 : |----|----|----\n",
            "15 : |----|----|---\n",
            "16 : |----|----|---\n",
            "17 : |----|----|---\n",
            "18 : |----|----|\n",
            "19 : \n",
            "20 : |----|----|\n",
            "21 : |----|----|----\n",
            "22 : |--\n",
            "23 : \n",
            "24 : |----|----|---\n",
            "25 : |----|----|-\n",
            "26 : |----|----|\n",
            "27 : \n",
            "28 : |----|----|---\n",
            "29 : |----|--\n",
            "30 : |----|----|---\n",
            "31 : |----|\n",
            "32 : \n",
            "33 : |----|----|--\n",
            "34 : |---\n",
            "35 : \n",
            "36 : \n",
            "37 : |---\n",
            "38 : |----|---\n",
            "39 : |----|----|---\n",
            "40 : |----|----|\n",
            "41 : |----|-\n",
            "42 : |----|----|--\n",
            "43 : |----|----|---\n",
            "44 : |----|----|---\n",
            "45 : |\n",
            "46 : |----|----|---\n",
            "47 : |----|----|--\n",
            "48 : |----|----|-\n",
            "49 : |----|----|\n",
            "50 : |----|----|---\n",
            "51 : \n",
            "52 : |----|----|-\n",
            "53 : |----|----|---\n",
            "54 : |----|----|---\n",
            "55 : |\n",
            "56 : \n",
            "57 : |----|----|---\n",
            "58 : |----|----|---\n",
            "59 : |----|--\n",
            "60 : |----|----|--\n",
            "61 : |----|----|----\n",
            "X, y shapes: (10233, 32, 32, 3) (10233,)\n"
          ],
          "name": "stdout"
        }
      ]
    },
    {
      "metadata": {
        "id": "46d0nfG9kFsi",
        "colab_type": "code",
        "colab": {
          "base_uri": "https://localhost:8080/",
          "height": 347
        },
        "outputId": "67aceaea-cc5d-4f27-ebfb-cc214670015e"
      },
      "cell_type": "code",
      "source": [
        "# histogram of label frequency (once again, before data augmentation)\n",
        "hist, bins = np.histogram(y_train_normalized, bins=n_classes)\n",
        "width = 0.7 * (bins[1] - bins[0])\n",
        "center = (bins[:-1] + bins[1:]) / 2\n",
        "plt.bar(center, hist, align='center', width=width)\n",
        "plt.show()"
      ],
      "execution_count": 19,
      "outputs": [
        {
          "output_type": "display_data",
          "data": {
            "image/png": "[encoded data removed]",
            "text/plain": [
              "<matplotlib.figure.Figure at 0x7f44274c8898>"
            ]
          },
          "metadata": {
            "tags": []
          }
        }
      ]
    },
    {
      "metadata": {
        "id": "ehoIy1-KhI7p",
        "colab_type": "code",
        "colab": {}
      },
      "cell_type": "code",
      "source": [
        "def createLeNetModel(num_classes):\n",
        "  # first set of CONV => RELU => POOL\n",
        "    model = Sequential()\n",
        "    model.add(Convolution2D(20, 5, 5,input_shape=(32, 32,3), border_mode=\"same\", activation='relu'))\n",
        "    model.add(MaxPooling2D(pool_size=(2, 2), strides=(2, 2)))\n",
        "\n",
        "    # second set of CONV => RELU => POOL\n",
        "    model.add(Convolution2D(50, 5, 5, border_mode=\"same\", activation='relu'))\n",
        "    model.add(MaxPooling2D(pool_size=(2, 2), strides=(2, 2)))\n",
        "\n",
        "    # set of FC => RELU layers\n",
        "    model.add(Flatten())\n",
        "    model.add(Dense(512))\n",
        "    model.add(Activation(\"relu\"))\n",
        "    model.add(Dropout(0.6))\n",
        "    model.add(Dense(128))\n",
        "    model.add(Activation(\"relu\"))\n",
        "    model.add(Dropout(0.4))\n",
        "    # softmax classifier\n",
        "    model.add(Dense(num_classes))\n",
        "    model.add(Activation(\"softmax\"))\n",
        "    # Compile model\n",
        "    lrate = 0.01\n",
        "    decay = lrate/30\n",
        "    sgd = SGD(lr=lrate, momentum=0.9, decay=decay, nesterov=False)\n",
        "    model.compile(loss='categorical_crossentropy', optimizer=sgd, metrics=['accuracy'])\n",
        "    print(model.summary())\n",
        "    return model"
      ],
      "execution_count": 0,
      "outputs": []
    },
    {
      "metadata": {
        "id": "gBIWweQAmWeB",
        "colab_type": "code",
        "colab": {
          "base_uri": "https://localhost:8080/",
          "height": 34
        },
        "outputId": "957d593c-34ce-4da0-8c2f-6ca2fd5a888c"
      },
      "cell_type": "code",
      "source": [
        "#y_train.shape[1\n",
        "labels = np.array(y_train_normalized)\n",
        "labels = to_categorical(labels,num_classes=62)\n",
        "labels.shape[1]        "
      ],
      "execution_count": 21,
      "outputs": [
        {
          "output_type": "execute_result",
          "data": {
            "text/plain": [
              "62"
            ]
          },
          "metadata": {
            "tags": []
          },
          "execution_count": 21
        }
      ]
    },
    {
      "metadata": {
        "id": "q4lT271JtgPR",
        "colab_type": "code",
        "colab": {
          "base_uri": "https://localhost:8080/",
          "height": 683
        },
        "outputId": "aa773134-26f7-4bc2-df42-c08e336341ae"
      },
      "cell_type": "code",
      "source": [
        "model = createLeNetModel(labels.shape[1])"
      ],
      "execution_count": 22,
      "outputs": [
        {
          "output_type": "stream",
          "text": [
            "_________________________________________________________________\n",
            "Layer (type)                 Output Shape              Param #   \n",
            "=================================================================\n",
            "conv2d_1 (Conv2D)            (None, 32, 32, 20)        1520      \n",
            "_________________________________________________________________\n",
            "max_pooling2d_1 (MaxPooling2 (None, 16, 16, 20)        0         \n",
            "_________________________________________________________________\n",
            "conv2d_2 (Conv2D)            (None, 16, 16, 50)        25050     \n",
            "_________________________________________________________________\n",
            "max_pooling2d_2 (MaxPooling2 (None, 8, 8, 50)          0         \n",
            "_________________________________________________________________\n",
            "flatten_1 (Flatten)          (None, 3200)              0         \n",
            "_________________________________________________________________\n",
            "dense_1 (Dense)              (None, 512)               1638912   \n",
            "_________________________________________________________________\n",
            "activation_1 (Activation)    (None, 512)               0         \n",
            "_________________________________________________________________\n",
            "dropout_1 (Dropout)          (None, 512)               0         \n",
            "_________________________________________________________________\n",
            "dense_2 (Dense)              (None, 128)               65664     \n",
            "_________________________________________________________________\n",
            "activation_2 (Activation)    (None, 128)               0         \n",
            "_________________________________________________________________\n",
            "dropout_2 (Dropout)          (None, 128)               0         \n",
            "_________________________________________________________________\n",
            "dense_3 (Dense)              (None, 62)                7998      \n",
            "_________________________________________________________________\n",
            "activation_3 (Activation)    (None, 62)                0         \n",
            "=================================================================\n",
            "Total params: 1,739,144\n",
            "Trainable params: 1,739,144\n",
            "Non-trainable params: 0\n",
            "_________________________________________________________________\n",
            "None\n"
          ],
          "name": "stdout"
        },
        {
          "output_type": "stream",
          "text": [
            "/usr/local/lib/python3.6/dist-packages/ipykernel_launcher.py:4: UserWarning: Update your `Conv2D` call to the Keras 2 API: `Conv2D(20, (5, 5), input_shape=(32, 32, 3..., activation=\"relu\", padding=\"same\")`\n",
            "  after removing the cwd from sys.path.\n",
            "/usr/local/lib/python3.6/dist-packages/ipykernel_launcher.py:8: UserWarning: Update your `Conv2D` call to the Keras 2 API: `Conv2D(50, (5, 5), activation=\"relu\", padding=\"same\")`\n",
            "  \n"
          ],
          "name": "stderr"
        }
      ]
    },
    {
      "metadata": {
        "id": "BiOzk48XX057",
        "colab_type": "code",
        "colab": {}
      },
      "cell_type": "code",
      "source": [
        "#model = createLeNetModel(y_train.shape[1])"
      ],
      "execution_count": 0,
      "outputs": []
    },
    {
      "metadata": {
        "id": "rJo8H58YX2g1",
        "colab_type": "code",
        "outputId": "dcdf016d-2465-4e33-b3cf-93a3bc1f989b",
        "colab": {
          "base_uri": "https://localhost:8080/",
          "height": 2091
        }
      },
      "cell_type": "code",
      "source": [
        "model.fit(X_train_normalized, labels, validation_split = 0.3, epochs=60)"
      ],
      "execution_count": 24,
      "outputs": [
        {
          "output_type": "stream",
          "text": [
            "Train on 7163 samples, validate on 3070 samples\n",
            "Epoch 1/60\n",
            "7163/7163 [==============================] - 4s 534us/step - loss: 3.5223 - acc: 0.1381 - val_loss: 4.7403 - val_acc: 6.5147e-04\n",
            "Epoch 2/60\n",
            "7163/7163 [==============================] - 2s 321us/step - loss: 2.2103 - acc: 0.3761 - val_loss: 4.8329 - val_acc: 0.0143\n",
            "Epoch 3/60\n",
            "7163/7163 [==============================] - 2s 317us/step - loss: 1.5134 - acc: 0.5399 - val_loss: 5.0673 - val_acc: 0.0270\n",
            "Epoch 4/60\n",
            "7163/7163 [==============================] - 2s 316us/step - loss: 1.1530 - acc: 0.6439 - val_loss: 4.9829 - val_acc: 0.0368\n",
            "Epoch 5/60\n",
            "7163/7163 [==============================] - 2s 318us/step - loss: 0.9025 - acc: 0.7201 - val_loss: 5.1676 - val_acc: 0.0472\n",
            "Epoch 6/60\n",
            "7163/7163 [==============================] - 2s 316us/step - loss: 0.7430 - acc: 0.7701 - val_loss: 4.9357 - val_acc: 0.0580\n",
            "Epoch 7/60\n",
            "7163/7163 [==============================] - 2s 319us/step - loss: 0.5739 - acc: 0.8173 - val_loss: 5.4049 - val_acc: 0.0609\n",
            "Epoch 8/60\n",
            "7163/7163 [==============================] - 2s 317us/step - loss: 0.5114 - acc: 0.8425 - val_loss: 5.9796 - val_acc: 0.0655\n",
            "Epoch 9/60\n",
            "7163/7163 [==============================] - 2s 315us/step - loss: 0.4104 - acc: 0.8704 - val_loss: 5.3165 - val_acc: 0.0935\n",
            "Epoch 10/60\n",
            "7163/7163 [==============================] - 2s 317us/step - loss: 0.3509 - acc: 0.8880 - val_loss: 5.9618 - val_acc: 0.0775\n",
            "Epoch 11/60\n",
            "7163/7163 [==============================] - 2s 317us/step - loss: 0.3113 - acc: 0.9017 - val_loss: 5.3460 - val_acc: 0.1052\n",
            "Epoch 12/60\n",
            "7163/7163 [==============================] - 2s 317us/step - loss: 0.2665 - acc: 0.9139 - val_loss: 5.5073 - val_acc: 0.1078\n",
            "Epoch 13/60\n",
            "7163/7163 [==============================] - 2s 315us/step - loss: 0.2530 - acc: 0.9189 - val_loss: 5.8330 - val_acc: 0.1062\n",
            "Epoch 14/60\n",
            "7163/7163 [==============================] - 2s 316us/step - loss: 0.2116 - acc: 0.9320 - val_loss: 5.3318 - val_acc: 0.1306\n",
            "Epoch 15/60\n",
            "7163/7163 [==============================] - 2s 316us/step - loss: 0.2003 - acc: 0.9312 - val_loss: 6.1803 - val_acc: 0.1121\n",
            "Epoch 16/60\n",
            "7163/7163 [==============================] - 2s 317us/step - loss: 0.1720 - acc: 0.9461 - val_loss: 5.6104 - val_acc: 0.1300\n",
            "Epoch 17/60\n",
            "7163/7163 [==============================] - 2s 315us/step - loss: 0.1604 - acc: 0.9467 - val_loss: 6.2765 - val_acc: 0.1166\n",
            "Epoch 18/60\n",
            "7163/7163 [==============================] - 2s 313us/step - loss: 0.1428 - acc: 0.9567 - val_loss: 5.8917 - val_acc: 0.1293\n",
            "Epoch 19/60\n",
            "7163/7163 [==============================] - 2s 314us/step - loss: 0.1445 - acc: 0.9546 - val_loss: 6.2382 - val_acc: 0.1319\n",
            "Epoch 20/60\n",
            "7163/7163 [==============================] - 2s 315us/step - loss: 0.1357 - acc: 0.9577 - val_loss: 5.8557 - val_acc: 0.1388\n",
            "Epoch 21/60\n",
            "7163/7163 [==============================] - 2s 314us/step - loss: 0.1217 - acc: 0.9606 - val_loss: 6.8373 - val_acc: 0.1189\n",
            "Epoch 22/60\n",
            "7163/7163 [==============================] - 2s 315us/step - loss: 0.0985 - acc: 0.9668 - val_loss: 6.5102 - val_acc: 0.1407\n",
            "Epoch 23/60\n",
            "7163/7163 [==============================] - 2s 315us/step - loss: 0.0921 - acc: 0.9704 - val_loss: 6.5544 - val_acc: 0.1371\n",
            "Epoch 24/60\n",
            "7163/7163 [==============================] - 2s 315us/step - loss: 0.0845 - acc: 0.9714 - val_loss: 6.5267 - val_acc: 0.1342\n",
            "Epoch 25/60\n",
            "7163/7163 [==============================] - 2s 313us/step - loss: 0.0927 - acc: 0.9707 - val_loss: 6.4961 - val_acc: 0.1296\n",
            "Epoch 26/60\n",
            "7163/7163 [==============================] - 2s 315us/step - loss: 0.0937 - acc: 0.9726 - val_loss: 6.6706 - val_acc: 0.1381\n",
            "Epoch 27/60\n",
            "7163/7163 [==============================] - 2s 314us/step - loss: 0.0874 - acc: 0.9747 - val_loss: 6.9010 - val_acc: 0.1267\n",
            "Epoch 28/60\n",
            "7163/7163 [==============================] - 2s 314us/step - loss: 0.0804 - acc: 0.9764 - val_loss: 6.9889 - val_acc: 0.1283\n",
            "Epoch 29/60\n",
            "7163/7163 [==============================] - 2s 316us/step - loss: 0.0685 - acc: 0.9779 - val_loss: 7.1330 - val_acc: 0.1300\n",
            "Epoch 30/60\n",
            "7163/7163 [==============================] - 2s 315us/step - loss: 0.0691 - acc: 0.9795 - val_loss: 6.8773 - val_acc: 0.1423\n",
            "Epoch 31/60\n",
            "7163/7163 [==============================] - 2s 317us/step - loss: 0.0671 - acc: 0.9782 - val_loss: 6.3253 - val_acc: 0.1495\n",
            "Epoch 32/60\n",
            "7163/7163 [==============================] - 2s 317us/step - loss: 0.0533 - acc: 0.9842 - val_loss: 6.8149 - val_acc: 0.1430\n",
            "Epoch 33/60\n",
            "7163/7163 [==============================] - 2s 315us/step - loss: 0.0550 - acc: 0.9827 - val_loss: 6.9549 - val_acc: 0.1336\n",
            "Epoch 34/60\n",
            "7163/7163 [==============================] - 2s 316us/step - loss: 0.0472 - acc: 0.9853 - val_loss: 7.0597 - val_acc: 0.1394\n",
            "Epoch 35/60\n",
            "7163/7163 [==============================] - 2s 315us/step - loss: 0.0535 - acc: 0.9827 - val_loss: 7.0194 - val_acc: 0.1436\n",
            "Epoch 36/60\n",
            "7163/7163 [==============================] - 2s 315us/step - loss: 0.0461 - acc: 0.9866 - val_loss: 7.1977 - val_acc: 0.1339\n",
            "Epoch 37/60\n",
            "7163/7163 [==============================] - 2s 314us/step - loss: 0.0493 - acc: 0.9851 - val_loss: 7.0821 - val_acc: 0.1433\n",
            "Epoch 38/60\n",
            "7163/7163 [==============================] - 2s 314us/step - loss: 0.0433 - acc: 0.9858 - val_loss: 7.2104 - val_acc: 0.1489\n",
            "Epoch 39/60\n",
            "7163/7163 [==============================] - 2s 315us/step - loss: 0.0456 - acc: 0.9863 - val_loss: 7.2020 - val_acc: 0.1492\n",
            "Epoch 40/60\n",
            "7163/7163 [==============================] - 2s 314us/step - loss: 0.0448 - acc: 0.9883 - val_loss: 7.4539 - val_acc: 0.1397\n",
            "Epoch 41/60\n",
            "7163/7163 [==============================] - 2s 315us/step - loss: 0.0463 - acc: 0.9848 - val_loss: 7.7527 - val_acc: 0.1349\n",
            "Epoch 42/60\n",
            "7163/7163 [==============================] - 2s 313us/step - loss: 0.0394 - acc: 0.9870 - val_loss: 7.0279 - val_acc: 0.1515\n",
            "Epoch 43/60\n",
            "7163/7163 [==============================] - 2s 315us/step - loss: 0.0432 - acc: 0.9859 - val_loss: 6.9868 - val_acc: 0.1511\n",
            "Epoch 44/60\n",
            "7163/7163 [==============================] - 2s 315us/step - loss: 0.0405 - acc: 0.9866 - val_loss: 7.6154 - val_acc: 0.1336\n",
            "Epoch 45/60\n",
            "7163/7163 [==============================] - 2s 316us/step - loss: 0.0373 - acc: 0.9886 - val_loss: 7.6274 - val_acc: 0.1417\n",
            "Epoch 46/60\n",
            "7163/7163 [==============================] - 2s 315us/step - loss: 0.0390 - acc: 0.9880 - val_loss: 7.6593 - val_acc: 0.1345\n",
            "Epoch 47/60\n",
            "7163/7163 [==============================] - 2s 315us/step - loss: 0.0361 - acc: 0.9880 - val_loss: 7.4393 - val_acc: 0.1345\n",
            "Epoch 48/60\n",
            "7163/7163 [==============================] - 2s 314us/step - loss: 0.0278 - acc: 0.9929 - val_loss: 7.9164 - val_acc: 0.1339\n",
            "Epoch 49/60\n",
            "7163/7163 [==============================] - 2s 314us/step - loss: 0.0324 - acc: 0.9899 - val_loss: 7.7414 - val_acc: 0.1404\n",
            "Epoch 50/60\n",
            "7163/7163 [==============================] - 2s 315us/step - loss: 0.0450 - acc: 0.9858 - val_loss: 7.2024 - val_acc: 0.1498\n",
            "Epoch 51/60\n",
            "7163/7163 [==============================] - 2s 318us/step - loss: 0.0336 - acc: 0.9894 - val_loss: 7.5393 - val_acc: 0.1469\n",
            "Epoch 52/60\n",
            "7163/7163 [==============================] - 2s 315us/step - loss: 0.0294 - acc: 0.9915 - val_loss: 7.7572 - val_acc: 0.1472\n",
            "Epoch 53/60\n",
            "7163/7163 [==============================] - 2s 314us/step - loss: 0.0320 - acc: 0.9906 - val_loss: 7.4463 - val_acc: 0.1427\n",
            "Epoch 54/60\n",
            "7163/7163 [==============================] - 2s 315us/step - loss: 0.0294 - acc: 0.9899 - val_loss: 7.8556 - val_acc: 0.1433\n",
            "Epoch 55/60\n",
            "7163/7163 [==============================] - 2s 313us/step - loss: 0.0299 - acc: 0.9901 - val_loss: 7.2641 - val_acc: 0.1534\n",
            "Epoch 56/60\n",
            "7163/7163 [==============================] - 2s 315us/step - loss: 0.0309 - acc: 0.9895 - val_loss: 7.9436 - val_acc: 0.1404\n",
            "Epoch 57/60\n",
            "7163/7163 [==============================] - 2s 314us/step - loss: 0.0327 - acc: 0.9897 - val_loss: 7.5960 - val_acc: 0.1436\n",
            "Epoch 58/60\n",
            "7163/7163 [==============================] - 2s 314us/step - loss: 0.0292 - acc: 0.9905 - val_loss: 7.6178 - val_acc: 0.1469\n",
            "Epoch 59/60\n",
            "7163/7163 [==============================] - 2s 317us/step - loss: 0.0261 - acc: 0.9911 - val_loss: 7.5803 - val_acc: 0.1469\n",
            "Epoch 60/60\n",
            "7163/7163 [==============================] - 2s 314us/step - loss: 0.0282 - acc: 0.9916 - val_loss: 7.7025 - val_acc: 0.1430\n"
          ],
          "name": "stdout"
        },
        {
          "output_type": "execute_result",
          "data": {
            "text/plain": [
              "<keras.callbacks.History at 0x7f442696b0b8>"
            ]
          },
          "metadata": {
            "tags": []
          },
          "execution_count": 24
        }
      ]
    },
    {
      "metadata": {
        "id": "g2OO_zV2X9K1",
        "colab_type": "code",
        "colab": {
          "base_uri": "https://localhost:8080/",
          "height": 34
        },
        "outputId": "2b8e5a65-184f-480c-d6c5-a403ba402786"
      },
      "cell_type": "code",
      "source": [
        "#y_test = \n",
        "y_test = np.array(y_test)\n",
        "y_test = to_categorical(y_test,num_classes=62)\n",
        "predict = np.argmax(model.predict(X_test), axis = 1)\n",
        "count = 0\n",
        "for i in range(0,predict.shape[0]):\n",
        "    if (predict[i] == np.argmax(y_test[i])):\n",
        "        count +=1\n",
        "print ('Accuracy on Test ',100 * count/predict.shape[0],'%')"
      ],
      "execution_count": 25,
      "outputs": [
        {
          "output_type": "stream",
          "text": [
            "Accuracy on Test  97.38095238095238 %\n"
          ],
          "name": "stdout"
        }
      ]
    },
    {
      "metadata": {
        "id": "qWTQiofum_SW",
        "colab_type": "code",
        "colab": {}
      },
      "cell_type": "code",
      "source": [
        ""
      ],
      "execution_count": 0,
      "outputs": []
    }
  ]
}